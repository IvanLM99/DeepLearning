{
  "cells": [
    {
      "cell_type": "markdown",
      "source": [
        "<img src=\"https://drive.google.com/uc?export=view&id=1x-QAgitB-S5rxGGDqxsJ299ZQTfYtOhb\" width=180, align=\"center\"/>\n",
        "\n",
        "Master's degree in Intelligent Systems\n",
        "\n",
        "Subject: 11754 - Deep Learning\n",
        "\n",
        "Year: 2023-2024\n",
        "\n",
        "Professor: Miguel Ángel Calafat Torrens"
      ],
      "metadata": {
        "id": "ukEDXM02WgLS"
      }
    },
    {
      "cell_type": "markdown",
      "source": [
        "# LABORATORY 2"
      ],
      "metadata": {
        "id": "n41nD1LEJZb7"
      }
    },
    {
      "cell_type": "markdown",
      "source": [
        "## Preparation"
      ],
      "metadata": {
        "id": "9opUw2lRJqWP"
      }
    },
    {
      "cell_type": "code",
      "source": [
        "# This cell connects to your Drive. This is necessary because we are going to\n",
        "# import files from there\n",
        "from google.colab import drive\n",
        "drive.mount('/content/gdrive')"
      ],
      "metadata": {
        "id": "GKiR_y5SUtq0",
        "colab": {
          "base_uri": "https://localhost:8080/"
        },
        "outputId": "df2de2cc-699a-4fd3-b20e-f8e637c209d6"
      },
      "execution_count": 3,
      "outputs": [
        {
          "output_type": "stream",
          "name": "stdout",
          "text": [
            "Mounted at /content/gdrive\n"
          ]
        }
      ]
    },
    {
      "cell_type": "code",
      "source": [
        "# Replace the string in the following line with the path where you have this\n",
        "# file. If you have your account in spanish, \"MyDrive\" is 'Mi unidad'.\n",
        "%cd '/content/gdrive/MyDrive/Colab Notebooks/deep learning/LAB2'\n",
        "%ls -l"
      ],
      "metadata": {
        "id": "hsBNWWkMe3Um",
        "colab": {
          "base_uri": "https://localhost:8080/"
        },
        "outputId": "96972250-8af4-4b44-f58f-c967e82c258f"
      },
      "execution_count": 4,
      "outputs": [
        {
          "output_type": "stream",
          "name": "stdout",
          "text": [
            "/content/gdrive/MyDrive/Colab Notebooks/deep learning/LAB2\n",
            "total 123\n",
            "-rw------- 1 root root  6125 Mar 11 14:39 helper_PR2.py\n",
            "-rw------- 1 root root 51596 Mar 23 22:30 LAB-2.ipynb\n",
            "-rw------- 1 root root 63190 Mar 19 12:56 LSS2-Perceptron.ipynb\n",
            "drwx------ 2 root root  4096 Mar 11 15:10 \u001b[0m\u001b[01;34m__pycache__\u001b[0m/\n"
          ]
        }
      ]
    },
    {
      "cell_type": "code",
      "source": [
        "# Here the path of the project folder (which is where this file is) is inserted\n",
        "# into the python path. There's nothing to do; just execute the cell.\n",
        "import pathlib\n",
        "import sys\n",
        "\n",
        "PROJECT_DIR = str(pathlib.Path().resolve())\n",
        "sys.path.append(PROJECT_DIR)"
      ],
      "metadata": {
        "id": "-PXbtPyqfSaf"
      },
      "execution_count": 5,
      "outputs": []
    },
    {
      "cell_type": "code",
      "execution_count": 6,
      "metadata": {
        "id": "6FC9133BN9LA"
      },
      "outputs": [],
      "source": [
        "# And here we import a few more libraries, among them the one for custom helper\n",
        "# functions\n",
        "import matplotlib.pyplot as plt\n",
        "import numpy as np\n",
        "import pandas as pd\n",
        "\n",
        "import helper_PR2 as hp\n",
        "\n",
        "# from ipywidgets import interact, interactive, fixed, interact_manual\n",
        "# import ipywidgets as widgets\n",
        "# from IPython.display import display"
      ]
    },
    {
      "cell_type": "markdown",
      "metadata": {
        "id": "vJKMfg78N9LC"
      },
      "source": [
        "## Problem to solve\n",
        "Imagine you have a cloud of dots. Each dot symbolizes two given characteristics of an individual that are to be used by a bank to determine whether to grant credit. The value of the abscissa could indicate the flow of monthly income, while the value of the ordinate would indicate the amount of money accumulated in a savings account. In this way, the position of the dots in the plane would determine a given pair of features of the economic situation of an individual.\n",
        "\n",
        "The following graph shows the dots that correspond to the last credit requests. The blue dots are accepted requests, while the red ones correspond to denied requests. It can be seen that in general, the larger the values of abscissa and ordinate, the more likely it is that credit will be granted, although this is not a rigid rule.\n",
        "\n",
        "<img src=\"https://drive.google.com/uc?export=view&id=1B2LW8iyDCYVlOzYnCJ26dR0RYh2ZA01a\" width=\"400\" align=\"center\">"
      ]
    },
    {
      "cell_type": "markdown",
      "metadata": {
        "id": "0Gm_jIhyN9LD"
      },
      "source": [
        "Next, let's see the code for a random set of dots."
      ]
    },
    {
      "cell_type": "code",
      "execution_count": 7,
      "metadata": {
        "id": "n4XAdQ7BN9LD"
      },
      "outputs": [],
      "source": [
        "# Seed for random numbers fixed to ensure reproducibility\n",
        "np.random.seed(42)  # The answer to the great question of “life, the universe\n",
        "                    # and everything” is 42, but you can choose any value."
      ]
    },
    {
      "cell_type": "code",
      "execution_count": 8,
      "metadata": {
        "id": "crivHtUhN9LE"
      },
      "outputs": [],
      "source": [
        "# Generation of random dots with slight separation between groups\n",
        "n = 20\n",
        "\n",
        "# Coordinates x and y\n",
        "x1 = (0.4 * np.ones((1, n)) + 0.5 * np.random.random((1, n))).flatten()\n",
        "y1 = (0.4 * np.ones((1, n)) + 0.5 * np.random.random((1, n))).flatten()\n",
        "\n",
        "# Labels\n",
        "labels1 = n * [0]\n",
        "\n",
        "# Dots vector\n",
        "p1 = [(xs, ys) for xs, ys in zip(x1, y1)]\n",
        "\n",
        "# Coordinates x and y\n",
        "x2 = (0.6 * np.ones((1, n)) + 0.5 * np.random.random((1, n))).flatten()\n",
        "y2 = (0.6 * np.ones((1, n)) + 0.5 * np.random.random((1, n))).flatten()\n",
        "\n",
        "# Labels\n",
        "labels2 = n * [1]\n",
        "\n",
        "# Second dots vector\n",
        "p2 = [(xs, ys) for xs, ys in zip(x2, y2)]\n",
        "\n",
        "# Features and labels\n",
        "features = p1 + p2\n",
        "correct_outputs = labels1 + labels2"
      ]
    },
    {
      "cell_type": "markdown",
      "source": [
        "## How to solve it\n",
        "\n",
        "With the formulation indicated below solve the proposed problem with a two-layer neural network calculated with numpy. In the hidden layer (first layer) there will be two perceptrons, while in the output layer there will be just one.\n",
        "\n",
        "<img src=\"https://drive.google.com/uc?export=view&id=16r4XOQ6IfKj5ezh_SVpztnqYlqIy-L89\" width=\"1200\" align=\"center\">"
      ],
      "metadata": {
        "id": "Tel_EXUdtP_w"
      }
    },
    {
      "cell_type": "markdown",
      "source": [
        "Formulas for the partial derivatives of the losses with respect to $W_1$ y $W_2$\n",
        "\n",
        "$$ \\frac{\\partial loss}{\\partial W_2}=\\frac{\\partial loss}{\\partial \\hat{y}_2}·\\frac{\\partial \\hat{y}_2}{\\partial h_2}·\\frac{\\partial h_2}{\\partial W_2}=\n",
        "\\underbrace{\\underbrace{-(y-\\hat{y}_2)}_{\\varepsilon_2} \\cdot \\sigma(h_2)\\,(1-\\sigma(h_2))}_{\\delta_2} \\cdot \\hat{Y}_1 $$\n",
        "\n",
        "$$ \\frac{\\partial loss}{\\partial W_1}=\\frac{\\partial loss}{\\partial \\hat{y}_2}·\\frac{\\partial \\hat{y}_2}{\\partial h_2}·\\frac{\\partial h_2}{\\partial \\hat{y}_1}·\\frac{\\partial \\hat{y}_1}{\\partial h_1}·\\frac{\\partial h_1}{\\partial W_1}=\n",
        "\\overbrace{\\overbrace{\\underbrace{\\underbrace{-(y-\\hat{y}_2)}_{\\varepsilon_2} \\cdot \\sigma(h_2)\\,(1-\\sigma(h_2))}_{\\delta_2} \\cdot W_2}^{\\varepsilon_1}\\cdot \\sigma(H_1)\\,(1-\\sigma(H_1))}^{\\delta_1}\\cdot X $$"
      ],
      "metadata": {
        "id": "eMb7FWg4GMKz"
      }
    },
    {
      "cell_type": "code",
      "source": [
        "# In some cells you will find an statement and some lines that mark the space\n",
        "# in which you have to insert your code. These lines will be indicated as\n",
        "# Start-End, and between them it could be some helper code; but normally it'll\n",
        "# be empty or there will be some void command as 'None', or 'pass'.\n",
        "\n",
        "# For example:\n",
        "\n",
        "# Assign to the variable \"a\" the value 4\n",
        "\n",
        "# Start_________________________________________________________________________\n",
        "a = 4\n",
        "# End___________________________________________________________________________\n",
        "\n",
        "# In this example you should have complete between the lines as follows: a = 4"
      ],
      "metadata": {
        "id": "mxOH4-wiCRdX"
      },
      "execution_count": 9,
      "outputs": []
    },
    {
      "cell_type": "code",
      "execution_count": 10,
      "metadata": {
        "id": "CrASjVQXN9LQ"
      },
      "outputs": [],
      "source": [
        "# Define the sigmoid function\n",
        "\n",
        "def sigmoid(x):\n",
        "    # Start_____________________________________________________________________\n",
        "    return 1 / (1 + np.exp(-x))\n",
        "    # End_______________________________________________________________________"
      ]
    },
    {
      "cell_type": "code",
      "execution_count": 11,
      "metadata": {
        "id": "nx7mPGOHN9LF"
      },
      "outputs": [],
      "source": [
        "# Initial values of weights (You don't have todo anything in this cell)\n",
        "weight1 = 0.1\n",
        "weight2 = 1.0\n",
        "bias = -0.6"
      ]
    },
    {
      "cell_type": "code",
      "source": [
        "# Set up matrices and tensors (You don't have todo anything in this cell)\n",
        "\n",
        "# Batch size\n",
        "batch_size = 10\n",
        "\n",
        "# Initial values of the weights W1 (3 x 2) and W2 (3 x 1). In the second column\n",
        "# the order of the weights has been reversed so that the two neurons do not\n",
        "# start from the same point.\n",
        "W1 = np.array([[weight1, weight2, bias], [weight2, bias, weight1]]).T  # 3 x 2\n",
        "W2 = np.array([[weight1, weight2, bias]]).T  # 3 x 1\n",
        "\n",
        "# X is a 10 x 2 matrix (dots by coordinates). In the first column are the\n",
        "# abscissas and in the second are the ordinates; but now it will be delivered\n",
        "# in batches, so it is convenient to have it sized in 4 batches. Finally it's\n",
        "# arranged in 4 batches x 10 dots x 2 coordinates.\n",
        "# 4 x 10 x 2\n",
        "X = np.array(features).reshape(4, -1, 2)\n",
        "\n",
        "# Following the same criteria, the correct labels will be arranged in an\n",
        "# array of 4 x 10 x 1\n",
        "Y = np.array([correct_outputs]).T.reshape(4, -1, 1)\n",
        "\n",
        "print('W1:\\n{}\\n'.format(W1))\n",
        "print('W2:\\n{}'.format(W2))"
      ],
      "metadata": {
        "id": "kqvZ0mRdkc1J",
        "colab": {
          "base_uri": "https://localhost:8080/"
        },
        "outputId": "be2a753e-4712-40c1-c6a5-fdb432a8e2c7"
      },
      "execution_count": 12,
      "outputs": [
        {
          "output_type": "stream",
          "name": "stdout",
          "text": [
            "W1:\n",
            "[[ 0.1  1. ]\n",
            " [ 1.  -0.6]\n",
            " [-0.6  0.1]]\n",
            "\n",
            "W2:\n",
            "[[ 0.1]\n",
            " [ 1. ]\n",
            " [-0.6]]\n"
          ]
        }
      ]
    },
    {
      "cell_type": "code",
      "execution_count": 34,
      "metadata": {
        "id": "TZByVt4XN9LT"
      },
      "outputs": [],
      "source": [
        "# Training step\n",
        "\n",
        "# Define your training step function.\n",
        "\n",
        "# You have to do it step by step, just like the \"trainStep\" function has been\n",
        "# done in the theory notebook. Remember that all the states should be accesible\n",
        "# (i.e. there must be a variable for each matrix X, H, Y, epsilon and delta)\n",
        "\n",
        "def trainStep_2l(X, Y, W1, W2, lr):\n",
        "    loss = 0.0\n",
        "    for Xb, Yb in zip(X, Y):\n",
        "\n",
        "        # Forward pass\n",
        "        # Adding bias to input\n",
        "        Xb_with_bias = np.concatenate((Xb, np.ones((Xb.shape[0], 1))), axis=1)\n",
        "        # Calculate H1\n",
        "        H1 = sigmoid(np.dot(Xb_with_bias, W1))\n",
        "        # Adding bias to H1\n",
        "        H1_with_bias = np.concatenate((H1, np.ones((H1.shape[0], 1))), axis=1)\n",
        "        # Calculate H2\n",
        "        H2 = sigmoid(np.dot(H1_with_bias, W2))\n",
        "        # Error calculation\n",
        "        epsilon2 = -(Yb - H2)\n",
        "        loss += 0.5 * (epsilon2 ** 2).sum()\n",
        "\n",
        "        # Backpropagation\n",
        "        # Calculate delta2\n",
        "        delta2 = epsilon2 * H2 * (1 - H2)\n",
        "        # Calculate delta1\n",
        "        delta1 = np.dot(delta2, W2[:-1].T) * H1 * (1 - H1)\n",
        "        # Calculate increments for W1 and W2\n",
        "        incW_l1 = np.dot(Xb_with_bias.T, delta1)\n",
        "        incW_l2 = np.dot(H1_with_bias.T, delta2)\n",
        "\n",
        "        # Update the weights matrices W1 and W2\n",
        "        W1 -= lr * incW_l1\n",
        "        W2 -= lr * incW_l2\n",
        "\n",
        "    return W1, W2, loss\n",
        "\n",
        "\n",
        "\n"
      ]
    },
    {
      "cell_type": "code",
      "source": [
        "# Define your training loop (You don't have to do anything here, just execute\n",
        "# the cell)\n",
        "# Hyperparameters\n",
        "lr = 0.1\n",
        "num_epochs = 1000\n",
        "\n",
        "# Training\n",
        "for epoch in range(num_epochs):\n",
        "    W1, W2, loss = trainStep_2l(X, Y, W1, W2, lr)\n",
        "print('Epoch: {} Loss: {}'.format(epoch, loss))"
      ],
      "metadata": {
        "id": "yvt09EpbSOKT",
        "colab": {
          "base_uri": "https://localhost:8080/"
        },
        "outputId": "4d76adc8-0e9b-411c-f0c6-299ac0a13e4c"
      },
      "execution_count": 35,
      "outputs": [
        {
          "output_type": "stream",
          "name": "stdout",
          "text": [
            "Epoch: 999 Loss: 1.6684572227072327\n"
          ]
        }
      ]
    },
    {
      "cell_type": "code",
      "source": [
        "# Check the fit (You don't have to do anything here. Just execute\n",
        "\n",
        "base = np.linspace(0.2, 1.2, 41)\n",
        "\n",
        "blue_points_calc = []\n",
        "red_points_calc = []\n",
        "\n",
        "for coordX in base:\n",
        "    for coordY in base:\n",
        "        p = np.ones((1, 3))\n",
        "        p[0, 0], p[0, 1] = coordX, coordY\n",
        "        fwd = sigmoid(np.dot(np.concatenate((sigmoid(np.dot(p, W1)),\n",
        "                                             np.ones((1, 1))), axis=1), W2))\n",
        "        if round(float(fwd)) == 1:\n",
        "            blue_points_calc.append((coordX, coordY))\n",
        "        else:\n",
        "            red_points_calc.append((coordX, coordY))\n",
        "\n",
        "# Plot\n",
        "hp.plot_dots(blue_points_calc, red_points_calc, p2, p1)"
      ],
      "metadata": {
        "id": "XRMpsm3l4Mx0",
        "colab": {
          "base_uri": "https://localhost:8080/",
          "height": 490
        },
        "outputId": "a501f611-ffea-449b-d5de-d0677e6535f9"
      },
      "execution_count": 36,
      "outputs": [
        {
          "output_type": "stream",
          "name": "stderr",
          "text": [
            "<ipython-input-36-59cf768c7b94>:14: DeprecationWarning: Conversion of an array with ndim > 0 to a scalar is deprecated, and will error in future. Ensure you extract a single element from your array before performing this operation. (Deprecated NumPy 1.25.)\n",
            "  if round(float(fwd)) == 1:\n"
          ]
        },
        {
          "output_type": "display_data",
          "data": {
            "text/plain": [
              "<Figure size 640x480 with 1 Axes>"
            ],
            "image/png": "[encoded data removed]"
          },
          "metadata": {}
        }
      ]
    },
    {
      "cell_type": "code",
      "source": [],
      "metadata": {
        "id": "AFQPLGGJYK5z"
      },
      "execution_count": null,
      "outputs": []
    }
  ],
  "metadata": {
    "kernelspec": {
      "display_name": "Python 3",
      "name": "python3"
    },
    "language_info": {
      "name": "python"
    },
    "colab": {
      "provenance": []
    }
  },
  "nbformat": 4,
  "nbformat_minor": 0
}